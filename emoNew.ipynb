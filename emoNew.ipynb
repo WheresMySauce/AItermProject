{
 "cells": [
  {
   "cell_type": "code",
   "execution_count": 1,
   "metadata": {},
   "outputs": [],
   "source": [
    "import numpy as np \n",
    "import pandas as pd \n",
    "import os\n",
    "\n",
    "import matplotlib.pyplot as plt\n",
    "import seaborn as sns\n",
    "import tensorflow as tf\n",
    "import keras\n",
    "from keras.preprocessing import image\n",
    "from keras.models import Sequential\n",
    "from keras.layers import Conv2D, MaxPool2D, Flatten,Dense,Dropout,BatchNormalization\n",
    "from tensorflow.keras.preprocessing.image import ImageDataGenerator\n",
    "import cv2\n",
    "from tensorflow.keras.applications import VGG16, InceptionResNetV2\n",
    "from keras import regularizers\n",
    "from tensorflow.keras.optimizers import Adam,RMSprop,SGD,Adamax"
   ]
  },
  {
   "cell_type": "code",
   "execution_count": 2,
   "metadata": {},
   "outputs": [],
   "source": [
    "train_dir = \"dataset/FER2013/train\" #passing the path with training images\n",
    "test_dir = \"dataset/FER2013/test\"   #passing the path with testing images"
   ]
  },
  {
   "cell_type": "code",
   "execution_count": 3,
   "metadata": {},
   "outputs": [],
   "source": [
    "img_size = 48 #original size of the image"
   ]
  },
  {
   "cell_type": "code",
   "execution_count": 4,
   "metadata": {},
   "outputs": [],
   "source": [
    "\"\"\"\n",
    "Data Augmentation\n",
    "--------------------------\n",
    "rotation_range = rotates the image with the amount of degrees we provide\n",
    "width_shift_range = shifts the image randomly to the right or left along the width of the image\n",
    "height_shift range = shifts image randomly to up or below along the height of the image\n",
    "horizontal_flip = flips the image horizontally\n",
    "rescale = to scale down the pizel values in our image between 0 and 1\n",
    "zoom_range = applies random zoom to our object\n",
    "validation_split = reserves some images to be used for validation purpose\n",
    "\"\"\"\n",
    "\n",
    "train_datagen = ImageDataGenerator(#rotation_range = 180,\n",
    "                                         width_shift_range = 0.1,\n",
    "                                         height_shift_range = 0.1,\n",
    "                                         horizontal_flip = True,\n",
    "                                         rescale = 1./255,\n",
    "                                         #zoom_range = 0.2,\n",
    "                                         validation_split = 0.2\n",
    "                                        )\n",
    "validation_datagen = ImageDataGenerator(rescale = 1./255,\n",
    "                                         validation_split = 0.2)"
   ]
  },
  {
   "cell_type": "code",
   "execution_count": 5,
   "metadata": {},
   "outputs": [
    {
     "name": "stdout",
     "output_type": "stream",
     "text": [
      "Found 22968 images belonging to 7 classes.\n",
      "Found 1432 images belonging to 7 classes.\n"
     ]
    }
   ],
   "source": [
    "\"\"\"\n",
    "Applying data augmentation to the images as we read \n",
    "them from their respectivve directories\n",
    "\"\"\"\n",
    "train_generator = train_datagen.flow_from_directory(directory = train_dir,\n",
    "                                                    target_size = (img_size,img_size),\n",
    "                                                    batch_size = 64,\n",
    "                                                    color_mode = \"grayscale\",\n",
    "                                                    class_mode = \"categorical\",\n",
    "                                                    subset = \"training\"\n",
    "                                                   )\n",
    "validation_generator = validation_datagen.flow_from_directory( directory = test_dir,\n",
    "                                                              target_size = (img_size,img_size),\n",
    "                                                              batch_size = 64,\n",
    "                                                              color_mode = \"grayscale\",\n",
    "                                                              class_mode = \"categorical\",\n",
    "                                                              subset = \"validation\"\n",
    "                                                             )"
   ]
  },
  {
   "cell_type": "code",
   "execution_count": 6,
   "metadata": {},
   "outputs": [
    {
     "name": "stderr",
     "output_type": "stream",
     "text": [
      "e:\\anaconda3\\envs\\main2\\lib\\site-packages\\keras\\optimizers\\optimizer_v2\\adam.py:114: UserWarning: The `lr` argument is deprecated, use `learning_rate` instead.\n",
      "  super().__init__(name, **kwargs)\n"
     ]
    }
   ],
   "source": [
    "model= tf.keras.models.Sequential()\n",
    "model.add(Conv2D(32, kernel_size=(3, 3), padding='same', activation='relu', input_shape=(48, 48,1)))\n",
    "model.add(Conv2D(64,(3,3), padding='same', activation='relu' ))\n",
    "model.add(BatchNormalization())\n",
    "model.add(MaxPool2D(pool_size=(2, 2)))\n",
    "model.add(Dropout(0.25))\n",
    "\n",
    "model.add(Conv2D(128,(5,5), padding='same', activation='relu'))\n",
    "model.add(BatchNormalization())\n",
    "model.add(MaxPool2D(pool_size=(2, 2)))\n",
    "model.add(Dropout(0.25))\n",
    "    \n",
    "model.add(Conv2D(512,(3,3), padding='same', activation='relu', kernel_regularizer=regularizers.l2(0.01)))\n",
    "model.add(BatchNormalization())\n",
    "model.add(MaxPool2D(pool_size=(2, 2)))\n",
    "model.add(Dropout(0.25))\n",
    "\n",
    "model.add(Conv2D(512,(3,3), padding='same', activation='relu', kernel_regularizer=regularizers.l2(0.01)))\n",
    "model.add(BatchNormalization())\n",
    "model.add(MaxPool2D(pool_size=(2, 2)))\n",
    "model.add(Dropout(0.25))\n",
    "\n",
    "model.add(Flatten()) \n",
    "model.add(Dense(256,activation = 'relu'))\n",
    "model.add(BatchNormalization())\n",
    "model.add(Dropout(0.25))\n",
    "    \n",
    "model.add(Dense(512,activation = 'relu'))\n",
    "model.add(BatchNormalization())\n",
    "model.add(Dropout(0.25))\n",
    "\n",
    "model.add(Dense(7, activation='softmax'))\n",
    "\n",
    "model.compile(\n",
    "    optimizer = Adam(lr=0.0001), \n",
    "    loss='categorical_crossentropy', \n",
    "    metrics=['accuracy']\n",
    "  )"
   ]
  },
  {
   "cell_type": "code",
   "execution_count": 9,
   "metadata": {},
   "outputs": [
    {
     "name": "stdout",
     "output_type": "stream",
     "text": [
      "Model: \"sequential\"\n",
      "_________________________________________________________________\n",
      " Layer (type)                Output Shape              Param #   \n",
      "=================================================================\n",
      " conv2d (Conv2D)             (None, 48, 48, 32)        320       \n",
      "                                                                 \n",
      " conv2d_1 (Conv2D)           (None, 48, 48, 64)        18496     \n",
      "                                                                 \n",
      " batch_normalization (BatchN  (None, 48, 48, 64)       256       \n",
      " ormalization)                                                   \n",
      "                                                                 \n",
      " max_pooling2d (MaxPooling2D  (None, 24, 24, 64)       0         \n",
      " )                                                               \n",
      "                                                                 \n",
      " dropout (Dropout)           (None, 24, 24, 64)        0         \n",
      "                                                                 \n",
      " conv2d_2 (Conv2D)           (None, 24, 24, 128)       204928    \n",
      "                                                                 \n",
      " batch_normalization_1 (Batc  (None, 24, 24, 128)      512       \n",
      " hNormalization)                                                 \n",
      "                                                                 \n",
      " max_pooling2d_1 (MaxPooling  (None, 12, 12, 128)      0         \n",
      " 2D)                                                             \n",
      "                                                                 \n",
      " dropout_1 (Dropout)         (None, 12, 12, 128)       0         \n",
      "                                                                 \n",
      " conv2d_3 (Conv2D)           (None, 12, 12, 512)       590336    \n",
      "                                                                 \n",
      " batch_normalization_2 (Batc  (None, 12, 12, 512)      2048      \n",
      " hNormalization)                                                 \n",
      "                                                                 \n",
      " max_pooling2d_2 (MaxPooling  (None, 6, 6, 512)        0         \n",
      " 2D)                                                             \n",
      "                                                                 \n",
      " dropout_2 (Dropout)         (None, 6, 6, 512)         0         \n",
      "                                                                 \n",
      " conv2d_4 (Conv2D)           (None, 6, 6, 512)         2359808   \n",
      "                                                                 \n",
      " batch_normalization_3 (Batc  (None, 6, 6, 512)        2048      \n",
      " hNormalization)                                                 \n",
      "                                                                 \n",
      " max_pooling2d_3 (MaxPooling  (None, 3, 3, 512)        0         \n",
      " 2D)                                                             \n",
      "                                                                 \n",
      " dropout_3 (Dropout)         (None, 3, 3, 512)         0         \n",
      "                                                                 \n",
      " flatten (Flatten)           (None, 4608)              0         \n",
      "                                                                 \n",
      " dense (Dense)               (None, 256)               1179904   \n",
      "                                                                 \n",
      " batch_normalization_4 (Batc  (None, 256)              1024      \n",
      " hNormalization)                                                 \n",
      "                                                                 \n",
      " dropout_4 (Dropout)         (None, 256)               0         \n",
      "                                                                 \n",
      " dense_1 (Dense)             (None, 512)               131584    \n",
      "                                                                 \n",
      " batch_normalization_5 (Batc  (None, 512)              2048      \n",
      " hNormalization)                                                 \n",
      "                                                                 \n",
      " dropout_5 (Dropout)         (None, 512)               0         \n",
      "                                                                 \n",
      " dense_2 (Dense)             (None, 7)                 3591      \n",
      "                                                                 \n",
      "=================================================================\n",
      "Total params: 4,496,903\n",
      "Trainable params: 4,492,935\n",
      "Non-trainable params: 3,968\n",
      "_________________________________________________________________\n"
     ]
    }
   ],
   "source": [
    "model.summary()"
   ]
  },
  {
   "cell_type": "code",
   "execution_count": 10,
   "metadata": {},
   "outputs": [
    {
     "name": "stdout",
     "output_type": "stream",
     "text": [
      "Epoch 1/100\n",
      "359/359 [==============================] - 80s 182ms/step - loss: 9.2703 - accuracy: 0.1992 - val_loss: 9.7371 - val_accuracy: 0.2472\n",
      "Epoch 2/100\n",
      "359/359 [==============================] - 40s 110ms/step - loss: 8.2244 - accuracy: 0.2294 - val_loss: 7.6159 - val_accuracy: 0.2682\n",
      "Epoch 3/100\n",
      "359/359 [==============================] - 40s 111ms/step - loss: 7.2357 - accuracy: 0.2562 - val_loss: 6.5266 - val_accuracy: 0.3045\n",
      "Epoch 4/100\n",
      "359/359 [==============================] - 40s 111ms/step - loss: 6.2493 - accuracy: 0.2915 - val_loss: 5.5675 - val_accuracy: 0.3743\n",
      "Epoch 5/100\n",
      "359/359 [==============================] - 40s 111ms/step - loss: 5.3406 - accuracy: 0.3302 - val_loss: 4.8166 - val_accuracy: 0.3757\n",
      "Epoch 6/100\n",
      "359/359 [==============================] - 40s 111ms/step - loss: 4.6015 - accuracy: 0.3526 - val_loss: 4.5204 - val_accuracy: 0.2793\n",
      "Epoch 7/100\n",
      "359/359 [==============================] - 42s 118ms/step - loss: 3.9858 - accuracy: 0.3769 - val_loss: 3.6486 - val_accuracy: 0.4015\n",
      "Epoch 8/100\n",
      "359/359 [==============================] - 40s 112ms/step - loss: 3.4828 - accuracy: 0.4006 - val_loss: 3.2304 - val_accuracy: 0.4288\n",
      "Epoch 9/100\n",
      "359/359 [==============================] - 40s 111ms/step - loss: 3.0854 - accuracy: 0.4235 - val_loss: 2.9909 - val_accuracy: 0.4434\n",
      "Epoch 10/100\n",
      "359/359 [==============================] - 37s 104ms/step - loss: 2.7722 - accuracy: 0.4493 - val_loss: 2.5468 - val_accuracy: 0.5189\n",
      "Epoch 11/100\n",
      "359/359 [==============================] - 38s 104ms/step - loss: 2.5129 - accuracy: 0.4663 - val_loss: 2.3303 - val_accuracy: 0.5140\n",
      "Epoch 12/100\n",
      "359/359 [==============================] - 38s 104ms/step - loss: 2.3231 - accuracy: 0.4822 - val_loss: 2.2261 - val_accuracy: 0.4923\n",
      "Epoch 13/100\n",
      "359/359 [==============================] - 38s 104ms/step - loss: 2.1549 - accuracy: 0.4997 - val_loss: 1.9217 - val_accuracy: 0.5712\n",
      "Epoch 14/100\n",
      "359/359 [==============================] - 38s 104ms/step - loss: 2.0154 - accuracy: 0.5095 - val_loss: 1.9654 - val_accuracy: 0.5216\n",
      "Epoch 15/100\n",
      "359/359 [==============================] - 38s 106ms/step - loss: 1.9088 - accuracy: 0.5194 - val_loss: 1.7559 - val_accuracy: 0.5796\n",
      "Epoch 16/100\n",
      "359/359 [==============================] - 38s 106ms/step - loss: 1.8072 - accuracy: 0.5396 - val_loss: 1.7362 - val_accuracy: 0.5677\n",
      "Epoch 17/100\n",
      "359/359 [==============================] - 38s 105ms/step - loss: 1.7498 - accuracy: 0.5400 - val_loss: 1.6333 - val_accuracy: 0.5831\n",
      "Epoch 18/100\n",
      "359/359 [==============================] - 38s 105ms/step - loss: 1.6837 - accuracy: 0.5514 - val_loss: 1.5277 - val_accuracy: 0.6020\n",
      "Epoch 19/100\n",
      "359/359 [==============================] - 37s 103ms/step - loss: 1.6300 - accuracy: 0.5576 - val_loss: 1.5305 - val_accuracy: 0.6075\n",
      "Epoch 20/100\n",
      "359/359 [==============================] - 38s 104ms/step - loss: 1.5915 - accuracy: 0.5660 - val_loss: 1.5357 - val_accuracy: 0.5971\n",
      "Epoch 21/100\n",
      "359/359 [==============================] - 38s 105ms/step - loss: 1.5564 - accuracy: 0.5727 - val_loss: 1.4953 - val_accuracy: 0.5985\n",
      "Epoch 22/100\n",
      "359/359 [==============================] - 38s 105ms/step - loss: 1.5293 - accuracy: 0.5814 - val_loss: 1.4844 - val_accuracy: 0.6006\n",
      "Epoch 23/100\n",
      "359/359 [==============================] - 37s 104ms/step - loss: 1.5153 - accuracy: 0.5849 - val_loss: 1.4089 - val_accuracy: 0.6222\n",
      "Epoch 24/100\n",
      "359/359 [==============================] - 38s 105ms/step - loss: 1.4957 - accuracy: 0.5879 - val_loss: 1.4562 - val_accuracy: 0.6041\n",
      "Epoch 25/100\n",
      "359/359 [==============================] - 38s 105ms/step - loss: 1.4739 - accuracy: 0.5936 - val_loss: 1.3839 - val_accuracy: 0.6369\n",
      "Epoch 26/100\n",
      "359/359 [==============================] - 38s 104ms/step - loss: 1.4623 - accuracy: 0.5981 - val_loss: 1.3975 - val_accuracy: 0.6376\n",
      "Epoch 27/100\n",
      "359/359 [==============================] - 38s 104ms/step - loss: 1.4490 - accuracy: 0.6021 - val_loss: 1.4095 - val_accuracy: 0.6229\n",
      "Epoch 28/100\n",
      "359/359 [==============================] - 38s 105ms/step - loss: 1.4440 - accuracy: 0.6044 - val_loss: 1.3495 - val_accuracy: 0.6529\n",
      "Epoch 29/100\n",
      "359/359 [==============================] - 37s 104ms/step - loss: 1.4305 - accuracy: 0.6108 - val_loss: 1.3523 - val_accuracy: 0.6550\n",
      "Epoch 30/100\n",
      "359/359 [==============================] - 39s 108ms/step - loss: 1.4113 - accuracy: 0.6133 - val_loss: 1.4097 - val_accuracy: 0.6271\n",
      "Epoch 31/100\n",
      "359/359 [==============================] - 38s 104ms/step - loss: 1.4076 - accuracy: 0.6174 - val_loss: 1.4467 - val_accuracy: 0.6264\n",
      "Epoch 32/100\n",
      "359/359 [==============================] - 38s 105ms/step - loss: 1.3997 - accuracy: 0.6200 - val_loss: 1.3752 - val_accuracy: 0.6355\n",
      "Epoch 33/100\n",
      "359/359 [==============================] - 37s 104ms/step - loss: 1.3912 - accuracy: 0.6214 - val_loss: 1.3609 - val_accuracy: 0.6557\n",
      "Epoch 34/100\n",
      "359/359 [==============================] - 37s 104ms/step - loss: 1.3858 - accuracy: 0.6245 - val_loss: 1.3620 - val_accuracy: 0.6355\n",
      "Epoch 35/100\n",
      "359/359 [==============================] - 38s 105ms/step - loss: 1.3790 - accuracy: 0.6314 - val_loss: 1.3351 - val_accuracy: 0.6487\n",
      "Epoch 36/100\n",
      "359/359 [==============================] - 38s 106ms/step - loss: 1.3793 - accuracy: 0.6338 - val_loss: 1.3492 - val_accuracy: 0.6508\n",
      "Epoch 37/100\n",
      "359/359 [==============================] - 38s 105ms/step - loss: 1.3735 - accuracy: 0.6366 - val_loss: 1.3378 - val_accuracy: 0.6550\n",
      "Epoch 38/100\n",
      "359/359 [==============================] - 38s 105ms/step - loss: 1.3635 - accuracy: 0.6390 - val_loss: 1.3678 - val_accuracy: 0.6501\n",
      "Epoch 39/100\n",
      "359/359 [==============================] - 38s 107ms/step - loss: 1.3593 - accuracy: 0.6405 - val_loss: 1.3857 - val_accuracy: 0.6459\n",
      "Epoch 40/100\n",
      "359/359 [==============================] - 38s 106ms/step - loss: 1.3685 - accuracy: 0.6395 - val_loss: 1.3536 - val_accuracy: 0.6543\n",
      "Epoch 41/100\n",
      "359/359 [==============================] - 38s 106ms/step - loss: 1.3571 - accuracy: 0.6459 - val_loss: 1.3503 - val_accuracy: 0.6697\n",
      "Epoch 42/100\n",
      "359/359 [==============================] - 38s 105ms/step - loss: 1.3666 - accuracy: 0.6393 - val_loss: 1.3487 - val_accuracy: 0.6564\n",
      "Epoch 43/100\n",
      "359/359 [==============================] - 38s 105ms/step - loss: 1.3485 - accuracy: 0.6478 - val_loss: 1.3760 - val_accuracy: 0.6522\n",
      "Epoch 44/100\n",
      "359/359 [==============================] - 38s 105ms/step - loss: 1.3421 - accuracy: 0.6498 - val_loss: 1.3510 - val_accuracy: 0.6592\n",
      "Epoch 45/100\n",
      "359/359 [==============================] - 38s 105ms/step - loss: 1.3422 - accuracy: 0.6513 - val_loss: 1.3581 - val_accuracy: 0.6655\n",
      "Epoch 46/100\n",
      "359/359 [==============================] - 38s 105ms/step - loss: 1.3454 - accuracy: 0.6543 - val_loss: 1.3793 - val_accuracy: 0.6592\n",
      "Epoch 47/100\n",
      "359/359 [==============================] - 39s 108ms/step - loss: 1.3409 - accuracy: 0.6544 - val_loss: 1.3600 - val_accuracy: 0.6578\n",
      "Epoch 48/100\n",
      "359/359 [==============================] - 38s 106ms/step - loss: 1.3509 - accuracy: 0.6565 - val_loss: 1.3583 - val_accuracy: 0.6613\n",
      "Epoch 49/100\n",
      "359/359 [==============================] - 38s 105ms/step - loss: 1.3481 - accuracy: 0.6565 - val_loss: 1.3408 - val_accuracy: 0.6711\n",
      "Epoch 50/100\n",
      "359/359 [==============================] - 38s 105ms/step - loss: 1.3362 - accuracy: 0.6592 - val_loss: 1.3621 - val_accuracy: 0.6522\n",
      "Epoch 51/100\n",
      "359/359 [==============================] - 38s 106ms/step - loss: 1.3290 - accuracy: 0.6623 - val_loss: 1.3477 - val_accuracy: 0.6711\n",
      "Epoch 52/100\n",
      "359/359 [==============================] - 38s 105ms/step - loss: 1.3428 - accuracy: 0.6649 - val_loss: 1.3430 - val_accuracy: 0.6753\n",
      "Epoch 53/100\n",
      "359/359 [==============================] - 38s 105ms/step - loss: 1.3324 - accuracy: 0.6647 - val_loss: 1.3399 - val_accuracy: 0.6746\n",
      "Epoch 54/100\n",
      "359/359 [==============================] - 38s 105ms/step - loss: 1.3204 - accuracy: 0.6697 - val_loss: 1.3575 - val_accuracy: 0.6676\n",
      "Epoch 55/100\n",
      "359/359 [==============================] - 40s 110ms/step - loss: 1.3242 - accuracy: 0.6699 - val_loss: 1.3475 - val_accuracy: 0.6669\n",
      "Epoch 56/100\n",
      "359/359 [==============================] - 39s 107ms/step - loss: 1.3216 - accuracy: 0.6724 - val_loss: 1.3871 - val_accuracy: 0.6627\n",
      "Epoch 57/100\n",
      "359/359 [==============================] - 38s 104ms/step - loss: 1.3160 - accuracy: 0.6730 - val_loss: 1.3707 - val_accuracy: 0.6718\n",
      "Epoch 58/100\n",
      "359/359 [==============================] - 38s 104ms/step - loss: 1.3206 - accuracy: 0.6730 - val_loss: 1.3758 - val_accuracy: 0.6599\n",
      "Epoch 59/100\n",
      "359/359 [==============================] - 38s 105ms/step - loss: 1.3227 - accuracy: 0.6728 - val_loss: 1.3692 - val_accuracy: 0.6599\n",
      "Epoch 60/100\n",
      "359/359 [==============================] - 38s 105ms/step - loss: 1.3227 - accuracy: 0.6733 - val_loss: 1.3529 - val_accuracy: 0.6662\n",
      "Epoch 61/100\n",
      "359/359 [==============================] - 38s 105ms/step - loss: 1.3233 - accuracy: 0.6765 - val_loss: 1.3936 - val_accuracy: 0.6592\n",
      "Epoch 62/100\n",
      "359/359 [==============================] - 40s 110ms/step - loss: 1.3178 - accuracy: 0.6752 - val_loss: 1.3416 - val_accuracy: 0.6704\n",
      "Epoch 63/100\n",
      "359/359 [==============================] - 38s 105ms/step - loss: 1.3181 - accuracy: 0.6751 - val_loss: 1.3940 - val_accuracy: 0.6585\n",
      "Epoch 64/100\n",
      "359/359 [==============================] - 38s 105ms/step - loss: 1.3112 - accuracy: 0.6789 - val_loss: 1.4249 - val_accuracy: 0.6459\n",
      "Epoch 65/100\n",
      "359/359 [==============================] - 38s 105ms/step - loss: 1.3194 - accuracy: 0.6778 - val_loss: 1.3733 - val_accuracy: 0.6683\n",
      "Epoch 66/100\n",
      "359/359 [==============================] - 38s 106ms/step - loss: 1.3179 - accuracy: 0.6783 - val_loss: 1.4241 - val_accuracy: 0.6466\n",
      "Epoch 67/100\n",
      "359/359 [==============================] - 41s 115ms/step - loss: 1.3084 - accuracy: 0.6835 - val_loss: 1.3611 - val_accuracy: 0.6767\n",
      "Epoch 68/100\n",
      "359/359 [==============================] - 38s 105ms/step - loss: 1.3108 - accuracy: 0.6813 - val_loss: 1.3614 - val_accuracy: 0.6732\n",
      "Epoch 69/100\n",
      "359/359 [==============================] - 38s 105ms/step - loss: 1.3069 - accuracy: 0.6867 - val_loss: 1.4070 - val_accuracy: 0.6480\n",
      "Epoch 70/100\n",
      "359/359 [==============================] - 38s 105ms/step - loss: 1.3049 - accuracy: 0.6822 - val_loss: 1.4197 - val_accuracy: 0.6529\n",
      "Epoch 71/100\n",
      "359/359 [==============================] - 38s 106ms/step - loss: 1.3057 - accuracy: 0.6887 - val_loss: 1.3630 - val_accuracy: 0.6655\n",
      "Epoch 72/100\n",
      "359/359 [==============================] - 38s 106ms/step - loss: 1.3038 - accuracy: 0.6855 - val_loss: 1.4220 - val_accuracy: 0.6585\n",
      "Epoch 73/100\n",
      "359/359 [==============================] - 38s 105ms/step - loss: 1.3040 - accuracy: 0.6867 - val_loss: 1.3749 - val_accuracy: 0.6697\n",
      "Epoch 74/100\n",
      "359/359 [==============================] - 38s 105ms/step - loss: 1.2984 - accuracy: 0.6896 - val_loss: 1.3687 - val_accuracy: 0.6760\n",
      "Epoch 75/100\n",
      "359/359 [==============================] - 38s 105ms/step - loss: 1.3101 - accuracy: 0.6890 - val_loss: 1.3824 - val_accuracy: 0.6739\n",
      "Epoch 76/100\n",
      "359/359 [==============================] - 38s 105ms/step - loss: 1.3113 - accuracy: 0.6882 - val_loss: 1.4066 - val_accuracy: 0.6732\n",
      "Epoch 77/100\n",
      "359/359 [==============================] - 38s 105ms/step - loss: 1.3109 - accuracy: 0.6888 - val_loss: 1.4309 - val_accuracy: 0.6613\n",
      "Epoch 78/100\n",
      "359/359 [==============================] - 38s 105ms/step - loss: 1.3068 - accuracy: 0.6910 - val_loss: 1.3588 - val_accuracy: 0.6767\n",
      "Epoch 79/100\n",
      "359/359 [==============================] - 38s 106ms/step - loss: 1.2910 - accuracy: 0.6934 - val_loss: 1.3707 - val_accuracy: 0.6851\n",
      "Epoch 80/100\n",
      "359/359 [==============================] - 38s 105ms/step - loss: 1.2946 - accuracy: 0.6940 - val_loss: 1.3738 - val_accuracy: 0.6802\n",
      "Epoch 81/100\n",
      "359/359 [==============================] - 38s 105ms/step - loss: 1.2905 - accuracy: 0.6978 - val_loss: 1.3790 - val_accuracy: 0.6858\n",
      "Epoch 82/100\n",
      "359/359 [==============================] - 37s 104ms/step - loss: 1.2865 - accuracy: 0.6994 - val_loss: 1.4092 - val_accuracy: 0.6795\n",
      "Epoch 83/100\n",
      "359/359 [==============================] - 38s 105ms/step - loss: 1.2908 - accuracy: 0.6964 - val_loss: 1.4034 - val_accuracy: 0.6641\n",
      "Epoch 84/100\n",
      "359/359 [==============================] - 38s 105ms/step - loss: 1.2901 - accuracy: 0.6968 - val_loss: 1.3820 - val_accuracy: 0.6781\n",
      "Epoch 85/100\n",
      "359/359 [==============================] - 38s 106ms/step - loss: 1.2824 - accuracy: 0.7011 - val_loss: 1.3894 - val_accuracy: 0.6788\n",
      "Epoch 86/100\n",
      "359/359 [==============================] - 39s 108ms/step - loss: 1.2880 - accuracy: 0.6974 - val_loss: 1.4071 - val_accuracy: 0.6830\n",
      "Epoch 87/100\n",
      "359/359 [==============================] - 38s 106ms/step - loss: 1.2820 - accuracy: 0.7022 - val_loss: 1.3659 - val_accuracy: 0.6851\n",
      "Epoch 88/100\n",
      "359/359 [==============================] - 38s 105ms/step - loss: 1.2798 - accuracy: 0.7036 - val_loss: 1.3839 - val_accuracy: 0.6830\n",
      "Epoch 89/100\n",
      "359/359 [==============================] - 38s 105ms/step - loss: 1.2800 - accuracy: 0.7021 - val_loss: 1.3883 - val_accuracy: 0.6899\n",
      "Epoch 90/100\n",
      "359/359 [==============================] - 38s 105ms/step - loss: 1.2817 - accuracy: 0.7020 - val_loss: 1.4264 - val_accuracy: 0.6725\n",
      "Epoch 91/100\n",
      "359/359 [==============================] - 38s 104ms/step - loss: 1.2898 - accuracy: 0.7013 - val_loss: 1.3989 - val_accuracy: 0.6858\n",
      "Epoch 92/100\n",
      "359/359 [==============================] - 38s 105ms/step - loss: 1.2960 - accuracy: 0.6994 - val_loss: 1.4216 - val_accuracy: 0.6725\n",
      "Epoch 93/100\n",
      "359/359 [==============================] - 38s 105ms/step - loss: 1.2815 - accuracy: 0.7031 - val_loss: 1.4231 - val_accuracy: 0.6781\n",
      "Epoch 94/100\n",
      "359/359 [==============================] - 38s 105ms/step - loss: 1.2930 - accuracy: 0.7036 - val_loss: 1.3908 - val_accuracy: 0.6920\n",
      "Epoch 95/100\n",
      "359/359 [==============================] - 40s 111ms/step - loss: 1.2914 - accuracy: 0.7076 - val_loss: 1.3865 - val_accuracy: 0.6858\n",
      "Epoch 96/100\n",
      "359/359 [==============================] - 40s 111ms/step - loss: 1.2801 - accuracy: 0.7059 - val_loss: 1.3923 - val_accuracy: 0.6920\n",
      "Epoch 97/100\n",
      "359/359 [==============================] - 39s 107ms/step - loss: 1.2823 - accuracy: 0.7061 - val_loss: 1.3884 - val_accuracy: 0.6851\n",
      "Epoch 98/100\n",
      "359/359 [==============================] - 38s 106ms/step - loss: 1.2719 - accuracy: 0.7108 - val_loss: 1.4333 - val_accuracy: 0.6732\n",
      "Epoch 99/100\n",
      "359/359 [==============================] - 38s 106ms/step - loss: 1.2763 - accuracy: 0.7111 - val_loss: 1.3918 - val_accuracy: 0.6760\n",
      "Epoch 100/100\n",
      "359/359 [==============================] - 39s 107ms/step - loss: 1.2753 - accuracy: 0.7073 - val_loss: 1.4138 - val_accuracy: 0.6851\n"
     ]
    }
   ],
   "source": [
    "history = model.fit(x = train_generator,epochs = 100,validation_data = validation_generator)"
   ]
  },
  {
   "cell_type": "code",
   "execution_count": 11,
   "metadata": {},
   "outputs": [
    {
     "data": {
      "image/png": "[encoded data removed]",
      "text/plain": [
       "<Figure size 1200x400 with 2 Axes>"
      ]
     },
     "metadata": {},
     "output_type": "display_data"
    }
   ],
   "source": [
    "fig , ax = plt.subplots(1,2)\n",
    "train_acc = history.history['accuracy']\n",
    "train_loss = history.history['loss']\n",
    "fig.set_size_inches(12,4)\n",
    "\n",
    "ax[0].plot(history.history['accuracy'])\n",
    "ax[0].plot(history.history['val_accuracy'])\n",
    "ax[0].set_title('Training Accuracy vs Validation Accuracy')\n",
    "ax[0].set_ylabel('Accuracy')\n",
    "ax[0].set_xlabel('Epoch')\n",
    "ax[0].legend(['Train', 'Validation'], loc='upper left')\n",
    "\n",
    "ax[1].plot(history.history['loss'])\n",
    "ax[1].plot(history.history['val_loss'])\n",
    "ax[1].set_title('Training Loss vs Validation Loss')\n",
    "ax[1].set_ylabel('Loss')\n",
    "ax[1].set_xlabel('Epoch')\n",
    "ax[1].legend(['Train', 'Validation'], loc='upper left')\n",
    "\n",
    "plt.show()"
   ]
  },
  {
   "cell_type": "code",
   "execution_count": 12,
   "metadata": {},
   "outputs": [],
   "source": [
    "model.save('mood.h5')"
   ]
  },
  {
   "cell_type": "code",
   "execution_count": 19,
   "metadata": {},
   "outputs": [
    {
     "name": "stdout",
     "output_type": "stream",
     "text": [
      "(48, 48)\n"
     ]
    },
    {
     "data": {
      "image/png": "[encoded data removed]",
      "text/plain": [
       "<Figure size 640x480 with 1 Axes>"
      ]
     },
     "metadata": {},
     "output_type": "display_data"
    }
   ],
   "source": [
    "from keras.utils import load_img\n",
    "img = load_img(\"face.jpg\",target_size = (48,48),color_mode = \"grayscale\")\n",
    "img = np.array(img)\n",
    "plt.imshow(img)\n",
    "print(img.shape) #prints (48,48) that is the shape of our image"
   ]
  },
  {
   "cell_type": "code",
   "execution_count": 20,
   "metadata": {},
   "outputs": [],
   "source": [
    "label_dict = {0:'Angry',1:'Disgust',2:'Fear',3:'Happy',4:'Neutral',5:'Sad',6:'Surprise'}"
   ]
  },
  {
   "cell_type": "code",
   "execution_count": 21,
   "metadata": {},
   "outputs": [
    {
     "name": "stdout",
     "output_type": "stream",
     "text": [
      "1/1 [==============================] - 0s 43ms/step\n",
      "[0.0, 0.0, 1.0, 0.0, 0.0, 7.405504e-31, 0.0]\n"
     ]
    }
   ],
   "source": [
    "img = np.expand_dims(img,axis = 0) #makes image shape (1,48,48)\n",
    "img = img.reshape(1,48,48,1)\n",
    "result = model.predict(img)\n",
    "result = list(result[0])\n",
    "print(result)"
   ]
  },
  {
   "cell_type": "code",
   "execution_count": 22,
   "metadata": {},
   "outputs": [
    {
     "name": "stdout",
     "output_type": "stream",
     "text": [
      "Fear\n"
     ]
    }
   ],
   "source": [
    "img_index = result.index(max(result))\n",
    "print(label_dict[img_index])\n",
    "plt.show()"
   ]
  },
  {
   "cell_type": "code",
   "execution_count": 23,
   "metadata": {},
   "outputs": [
    {
     "name": "stdout",
     "output_type": "stream",
     "text": [
      "359/359 [==============================] - 36s 101ms/step - loss: 1.1015 - accuracy: 0.7761\n",
      "23/23 [==============================] - 1s 52ms/step - loss: 1.4138 - accuracy: 0.6851\n",
      "final train accuracy = 77.61 , validation accuracy = 68.51\n"
     ]
    }
   ],
   "source": [
    "train_loss, train_acc = model.evaluate(train_generator)\n",
    "test_loss, test_acc   = model.evaluate(validation_generator)\n",
    "print(\"final train accuracy = {:.2f} , validation accuracy = {:.2f}\".format(train_acc*100, test_acc*100))"
   ]
  },
  {
   "cell_type": "code",
   "execution_count": 25,
   "metadata": {},
   "outputs": [],
   "source": [
    "model.save_weights('mood_weights.h5')"
   ]
  }
 ],
 "metadata": {
  "kernelspec": {
   "display_name": "main2",
   "language": "python",
   "name": "python3"
  },
  "language_info": {
   "codemirror_mode": {
    "name": "ipython",
    "version": 3
   },
   "file_extension": ".py",
   "mimetype": "text/x-python",
   "name": "python",
   "nbconvert_exporter": "python",
   "pygments_lexer": "ipython3",
   "version": "3.10.8"
  },
  "orig_nbformat": 4,
  "vscode": {
   "interpreter": {
    "hash": "0bae3606e906e2c5bb6f0687d0d420b46d3958123b1426b07333b13cbae8c157"
   }
  }
 },
 "nbformat": 4,
 "nbformat_minor": 2
}
